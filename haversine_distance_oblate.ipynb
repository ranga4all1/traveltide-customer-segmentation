{
 "cells": [
  {
   "cell_type": "markdown",
   "metadata": {},
   "source": [
    "# Haversine distance calculation\n",
    "\n",
    "1. Basic haversine distance calculation\n",
    "2. Haversine distance calculation for oblate earth sphere"
   ]
  },
  {
   "cell_type": "markdown",
   "metadata": {},
   "source": [
    "## Basic haversine distance calculation"
   ]
  },
  {
   "cell_type": "code",
   "execution_count": 2,
   "metadata": {},
   "outputs": [
    {
     "name": "stdout",
     "output_type": "stream",
     "text": [
      "Distance between LAX and JFK is: 3974.34 km\n"
     ]
    }
   ],
   "source": [
    "import math\n",
    "\n",
    "def haversine_distance(lat1, lon1, lat2, lon2):\n",
    "    # Radius of the Earth in kilometers\n",
    "    earth_radius = 6371.0\n",
    "    \n",
    "    # Convert degrees to radians\n",
    "    lat1 = math.radians(lat1)\n",
    "    lon1 = math.radians(lon1)\n",
    "    lat2 = math.radians(lat2)\n",
    "    lon2 = math.radians(lon2)\n",
    "    \n",
    "    # Haversine formula\n",
    "    dlon = lon2 - lon1\n",
    "    dlat = lat2 - lat1\n",
    "    a = math.sin(dlat / 2)**2 + math.cos(lat1) * math.cos(lat2) * math.sin(dlon / 2)**2\n",
    "    c = 2 * math.atan2(math.sqrt(a), math.sqrt(1 - a))\n",
    "    \n",
    "    # Calculate the distance\n",
    "    distance = earth_radius * c\n",
    "    \n",
    "    return distance\n",
    "\n",
    "# Coordinates for LAX (Los Angeles International Airport) and JFK (John F. Kennedy International Airport)\n",
    "lat1, lon1 = 33.9416, -118.4085  # LAX\n",
    "lat2, lon2 = 40.6413, -73.7781   # JFK\n",
    "\n",
    "# Calculate the distance\n",
    "distance = haversine_distance(lat1, lon1, lat2, lon2)\n",
    "print(f\"Distance between LAX and JFK is: {distance:.2f} km\")\n"
   ]
  },
  {
   "cell_type": "markdown",
   "metadata": {},
   "source": [
    "## Haversine distance calculation for oblate earth sphere\n",
    "\n",
    " - Haversine formula for calculating distances on an oblate spheroid, which is a more accurate representation of the Earth's shape compared to a perfect sphere. This takes into account the equatorial and polar radii of the Earth to calculate distances."
   ]
  },
  {
   "cell_type": "code",
   "execution_count": 4,
   "metadata": {},
   "outputs": [
    {
     "name": "stdout",
     "output_type": "stream",
     "text": [
      "Distance between LAX and JFK on oblate earth is: 4188.61 km\n"
     ]
    }
   ],
   "source": [
    "import math\n",
    "\n",
    "def haversine_distance_oblate(lat1, lon1, lat2, lon2):\n",
    "    # Earth's radii in kilometers (equatorial and polar)\n",
    "    equatorial_radius = 6378.137\n",
    "    polar_radius = 6356.7523\n",
    "\n",
    "    # Convert degrees to radians\n",
    "    lat1 = math.radians(lat1)\n",
    "    lon1 = math.radians(lon1)\n",
    "    lat2 = math.radians(lat2)\n",
    "    lon2 = math.radians(lon2)\n",
    "\n",
    "    # Calculate the differences in latitudes and longitudes\n",
    "    delta_lat = lat2 - lat1\n",
    "    delta_lon = lon2 - lon1\n",
    "\n",
    "    # Calculate the adjusted radius using the latitude and Earth's oblate spheroid shape\n",
    "    radius = math.sqrt(\n",
    "        ((equatorial_radius * math.cos(lat1))**2 + (polar_radius * math.sin(lat1))**2) /\n",
    "        ((equatorial_radius * math.cos(lat1))**2 + (polar_radius * math.sin(lat1))**2)\n",
    "    )\n",
    "\n",
    "    # Calculate the differences in radians\n",
    "    x = delta_lat * equatorial_radius\n",
    "    y = delta_lon * equatorial_radius * math.cos(lat1)\n",
    "\n",
    "    # Calculate the distance using the adjusted radius and Pythagorean theorem\n",
    "    distance = math.sqrt(x**2 + y**2) * radius\n",
    "\n",
    "    return distance\n",
    "\n",
    "# Coordinates for LAX (Los Angeles International Airport) and JFK (John F. Kennedy International Airport)\n",
    "lat1, lon1 = 33.9416, -118.4085  # LAX\n",
    "lat2, lon2 = 40.6413, -73.7781   # JFK\n",
    "\n",
    "# Calculate the distance\n",
    "distance = haversine_distance_oblate(lat1, lon1, lat2, lon2)\n",
    "print(f\"Distance between LAX and JFK on oblate earth is: {distance:.2f} km\")\n"
   ]
  },
  {
   "cell_type": "code",
   "execution_count": null,
   "metadata": {},
   "outputs": [],
   "source": []
  }
 ],
 "metadata": {
  "kernelspec": {
   "display_name": "masterschool-da",
   "language": "python",
   "name": "python3"
  },
  "language_info": {
   "codemirror_mode": {
    "name": "ipython",
    "version": 3
   },
   "file_extension": ".py",
   "mimetype": "text/x-python",
   "name": "python",
   "nbconvert_exporter": "python",
   "pygments_lexer": "ipython3",
   "version": "3.11.4"
  },
  "orig_nbformat": 4
 },
 "nbformat": 4,
 "nbformat_minor": 2
}
